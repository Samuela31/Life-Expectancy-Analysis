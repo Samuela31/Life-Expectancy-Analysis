{
  "nbformat": 4,
  "nbformat_minor": 0,
  "metadata": {
    "colab": {
      "provenance": [],
      "include_colab_link": true
    },
    "kernelspec": {
      "name": "python3",
      "display_name": "Python 3"
    },
    "language_info": {
      "name": "python"
    }
  },
  "cells": [
    {
      "cell_type": "markdown",
      "metadata": {
        "id": "view-in-github",
        "colab_type": "text"
      },
      "source": [
        "<a href=\"https://colab.research.google.com/github/Samuela31/Life-Expectancy-Analysis/blob/main/Life_Expectancy_Dataset_Analysis_Assignment71762108039.ipynb\" target=\"_parent\"><img src=\"https://colab.research.google.com/assets/colab-badge.svg\" alt=\"Open In Colab\"/></a>"
      ]
    },
    {
      "cell_type": "markdown",
      "source": [
        "#Reading from CSV and Cleaning Data\n",
        "\n"
      ],
      "metadata": {
        "id": "tBqV8FxfdtVF"
      }
    },
    {
      "cell_type": "markdown",
      "source": [
        "First, the dataset is read and checked for missing values. It is found that Population, Hepatitis B, and GDP have the most number of missing values, so it may bias the analysis results"
      ],
      "metadata": {
        "id": "ftsS5xb4aaVW"
      }
    },
    {
      "cell_type": "code",
      "execution_count": null,
      "metadata": {
        "id": "B1T34Hry_p02"
      },
      "outputs": [],
      "source": [
        "import pandas as pd\n",
        "import numpy as np\n",
        "import matplotlib.pyplot as plt\n",
        "import plotly.express as px\n",
        "import seaborn as sns\n",
        "from sklearn.preprocessing import LabelEncoder\n",
        "from sklearn.cluster import KMeans\n",
        "from sklearn.linear_model import LinearRegression\n",
        "from sklearn.linear_model import LogisticRegression\n",
        "\n",
        "#read dataset\n",
        "df = pd.read_csv('Life Expectancy Data.csv')\n",
        "\n",
        "#count rows and columns\n",
        "num_rows, num_cols = df.shape\n",
        "print(\"Number of rows:\", num_rows)\n",
        "print(\"Number of columns:\", num_cols)\n",
        "\n",
        "print(df.isnull().sum())"
      ]
    },
    {
      "cell_type": "markdown",
      "source": [
        "We clean the dataset via interpolation, which is a technique used to estimate missing values based on values of neighbouring data points."
      ],
      "metadata": {
        "id": "2rp7-SWtb8re"
      }
    },
    {
      "cell_type": "code",
      "source": [
        "#clean dataset by interpolation\n",
        "#Interpolation is a technique used to estimate missing\n",
        "#values based on the values of neighboring data points.\n",
        "df=df.interpolate()\n",
        "\n",
        "print(df.isnull().sum())"
      ],
      "metadata": {
        "id": "TdvZIdZ4Ne7F"
      },
      "execution_count": null,
      "outputs": []
    },
    {
      "cell_type": "code",
      "source": [
        "#print unique values of column in dataset\n",
        "countries=df['Country'].unique()\n",
        "print(countries, len(countries))"
      ],
      "metadata": {
        "id": "EWzbMLw2ULS2"
      },
      "execution_count": null,
      "outputs": []
    },
    {
      "cell_type": "markdown",
      "source": [
        "#Sample Visualizations for whole dataset"
      ],
      "metadata": {
        "id": "YNWIiOsAeBEN"
      }
    },
    {
      "cell_type": "code",
      "source": [
        "#Create a list of all columns\n",
        "cat_cols = df.columns.tolist()\n",
        "cat_cols.remove('Country')\n",
        "cat_cols.remove('Year')"
      ],
      "metadata": {
        "id": "2ltYX_ti0WuT"
      },
      "execution_count": null,
      "outputs": []
    },
    {
      "cell_type": "code",
      "source": [
        "#to create boxplots\n",
        "for column in cat_cols:\n",
        "  if column!='Status':\n",
        "    plt.figure(figsize=(10,5))\n",
        "    sns.boxplot(x='Year', y=column, data=df, palette='Set3')\n",
        "    plt.title('Distribution of ' + column + ' by Year')\n",
        "    plt.show()\n"
      ],
      "metadata": {
        "id": "Po6kiUFuCJKM"
      },
      "execution_count": null,
      "outputs": []
    },
    {
      "cell_type": "code",
      "source": [
        "# Create a pie chart for each column\n",
        "for col in cat_cols:\n",
        "  if col=='Life expectancy ':\n",
        "    less_than_20 = len(df[df['Life expectancy '] < 20])\n",
        "    between_20_50 = len(df[(df['Life expectancy '] >= 20) & (df['Life expectancy '] < 50)])\n",
        "    between_50_70 = len(df[(df['Life expectancy '] >= 50) & (df['Life expectancy '] < 70)])\n",
        "    greater_than_70 = len(df[df['Life expectancy '] >= 70])\n",
        "\n",
        "    # Create a list of counts\n",
        "    counts = [less_than_20, between_20_50, between_50_70, greater_than_70]\n",
        "\n",
        "    # Create a list of corresponding labels\n",
        "    labels = ['<20', '20-50', '50-70', '>70']\n",
        "\n",
        "    # Plot the pie chart\n",
        "    plt.figure(figsize=(8, 6))\n",
        "    plt.pie(counts, labels=labels, autopct='%1.1f%%')\n",
        "\n",
        "  else:\n",
        "    plt.figure(figsize=(8, 6))\n",
        "    df[col].value_counts().plot(kind='pie', autopct='%1.1f%%', cmap='coolwarm')\n",
        "\n",
        "  plt.title(col)\n",
        "  plt.show()"
      ],
      "metadata": {
        "id": "s_e-B7QKTtyB"
      },
      "execution_count": null,
      "outputs": []
    },
    {
      "cell_type": "markdown",
      "source": [
        "#Global summary (summary of entire dataset)"
      ],
      "metadata": {
        "id": "HXdHxHx3eRTq"
      }
    },
    {
      "cell_type": "code",
      "source": [
        "#Display summary statistics for numerical columns of entire dataset(so global values)\n",
        "df.describe()"
      ],
      "metadata": {
        "id": "258ROxpqW8-e"
      },
      "execution_count": null,
      "outputs": []
    },
    {
      "cell_type": "code",
      "source": [
        "#countries of lowest and higest life expectancies\n",
        "print(\"Country with lowest life expectancy\", df[df['Life expectancy ']==min(df['Life expectancy '])]['Country'],\n",
        "      \"\\n\",df[df['Life expectancy ']==min(df['Life expectancy '])]['Life expectancy '])\n",
        "\n",
        "print(\"Country with highest life expectancy\", df[df['Life expectancy ']==max(df['Life expectancy '])]['Country'],\n",
        "      \"\\n\",df[df['Life expectancy ']==max(df['Life expectancy '])]['Life expectancy '])"
      ],
      "metadata": {
        "id": "33aIvb-21Iml"
      },
      "execution_count": null,
      "outputs": []
    },
    {
      "cell_type": "code",
      "source": [
        "#print median, mode, and IQR of life expectancy\n",
        "print(\"Median: \",df['Life expectancy '].median())\n",
        "print(\"Mode: \",df['Life expectancy '].mode())\n",
        "\n",
        "q1 = df['Life expectancy '].quantile(0.25)\n",
        "q3 = df['Life expectancy '].quantile(0.75)\n",
        "iqr = q3 - q1\n",
        "print(\"IQR: \",iqr)"
      ],
      "metadata": {
        "id": "NgxwY6GxRXZv"
      },
      "execution_count": null,
      "outputs": []
    },
    {
      "cell_type": "code",
      "source": [
        "#convert categorical column to numeric\n",
        "le = LabelEncoder()\n",
        "df['Status']=le.fit_transform(df['Status'])\n",
        "\n",
        "# Calculate the correlation matrix\n",
        "corr_matrix = df.corr()\n",
        "\n",
        "# Visualize the correlation matrix as a heatmap\n",
        "plt.figure(figsize=(15,10))\n",
        "sns.heatmap(corr_matrix, annot=True, cmap='coolwarm')\n",
        "plt.show()"
      ],
      "metadata": {
        "id": "HxjSvLDOZdY6"
      },
      "execution_count": null,
      "outputs": []
    },
    {
      "cell_type": "code",
      "source": [
        "#names of developed countries (status=0)\n",
        "d=df[df['Status'] == 0]['Country'].unique()\n",
        "print(d,len(d))"
      ],
      "metadata": {
        "id": "lQG2eLJjE8IC"
      },
      "execution_count": null,
      "outputs": []
    },
    {
      "cell_type": "code",
      "source": [
        "#scatter plots wrt life expectancy\n",
        "dless_than_20 = df[df['Life expectancy '] < 20]\n",
        "dbetween_20_50 = df[(df['Life expectancy '] >= 20) & (df['Life expectancy '] < 50)]\n",
        "dbetween_50_70 = df[(df['Life expectancy '] >= 50) & (df['Life expectancy '] < 70)]\n",
        "dgreater_than_70 = df[df['Life expectancy '] >= 70]\n",
        "\n",
        "for col in cat_cols:\n",
        "    if col!= 'Life expectancy ':\n",
        "        plt.figure(figsize=(8, 6))\n",
        "        plt.scatter(dless_than_20[col], dless_than_20['Life expectancy '], label='age<20')\n",
        "        plt.scatter(dbetween_20_50[col], dbetween_20_50['Life expectancy '], label='20<=age<50')\n",
        "        plt.scatter(dbetween_50_70[col], dbetween_50_70['Life expectancy '], label='50<=age70')\n",
        "        plt.scatter(dgreater_than_70[col], dgreater_than_70['Life expectancy '], label='age>=70')\n",
        "        plt.title(\"{} vs Life expectancy(age)\".format(col))\n",
        "        plt.xlabel(col)\n",
        "        plt.ylabel(\"Life expectancy\")\n",
        "        plt.legend()\n",
        "        plt.show()\n"
      ],
      "metadata": {
        "id": "h7A9hkw7q-G4"
      },
      "execution_count": null,
      "outputs": []
    },
    {
      "cell_type": "code",
      "source": [
        "#distribution curve\n",
        "for col in cat_cols:\n",
        "    if col!= 'Life expectancy ':\n",
        "      plt.figure(figsize=(8, 5))\n",
        "      sns.kdeplot(df[col], shade=True)\n",
        "      plt.title(\"{} vs Life expectancy\".format(col))\n",
        "      plt.xlabel(col)\n",
        "      plt.ylabel(\"Life expectancy\")\n",
        "      plt.show()"
      ],
      "metadata": {
        "id": "Q2WfV3PI9mlJ"
      },
      "execution_count": null,
      "outputs": []
    },
    {
      "cell_type": "code",
      "source": [
        "#Central Tendency\n",
        "#group the data by country\n",
        "grouped_by_country = df.groupby('Country')\n",
        "\n",
        "#Calculate the mean, median, and mode for each attribute\n",
        "central_tendency = grouped_by_country.aggregate(['mean', 'median', pd.Series.mode])\n",
        "\n",
        "#resulting DataFrame\n",
        "print(central_tendency)\n",
        "\n",
        "#to print for specific country\n",
        "#print(central_tendency.loc['India'])\n"
      ],
      "metadata": {
        "id": "_zGPlun8b-Jx"
      },
      "execution_count": null,
      "outputs": []
    },
    {
      "cell_type": "markdown",
      "source": [
        "#Continent-wise Split"
      ],
      "metadata": {
        "id": "mGPBKMm7elwN"
      }
    },
    {
      "cell_type": "code",
      "source": [
        "!pip install pycountry-convert\n"
      ],
      "metadata": {
        "id": "O9zG23x0O26X"
      },
      "execution_count": null,
      "outputs": []
    },
    {
      "cell_type": "code",
      "source": [
        "#continent-wise split\n",
        "import pycountry_convert as pc\n",
        "\n",
        "continents = []\n",
        "for country in countries:\n",
        "  flag=0\n",
        "  if country=='Bolivia (Plurinational State of)':\n",
        "    country='Bolivia'\n",
        "  elif country=='Iran (Islamic Republic of)':\n",
        "    country='Iran'\n",
        "  elif country=='Micronesia (Federated States of)':\n",
        "    country='Micronesia'\n",
        "  elif country=='Republic of Korea':\n",
        "    country='South Korea'\n",
        "  elif country=='The former Yugoslav republic of Macedonia':\n",
        "    country='North Macedonia'\n",
        "  elif country=='Venezuela (Bolivarian Republic of)':\n",
        "    country='Venezuela'\n",
        "  elif country=='Timor-Leste':\n",
        "    continents.append('Asia')\n",
        "    flag=1\n",
        "\n",
        "  if flag==0:\n",
        "    country_alpha2 = pc.country_name_to_country_alpha2(country)\n",
        "    continent_code = pc.country_alpha2_to_continent_code(country_alpha2)\n",
        "    continent_name = pc.convert_continent_code_to_continent_name(continent_code)\n",
        "    continents.append(continent_name)\n",
        "\n",
        "africa,asia,europe,namerica,samerica,australia=[],[],[],[],[],[]\n",
        "for c in range(len(continents)):\n",
        "  if continents[c]=='Asia':\n",
        "    asia.append(countries[c])\n",
        "\n",
        "  elif continents[c]=='Africa':\n",
        "    africa.append(countries[c])\n",
        "\n",
        "  elif continents[c]=='Europe':\n",
        "    europe.append(countries[c])\n",
        "\n",
        "  elif continents[c]=='North America':\n",
        "    namerica.append(countries[c])\n",
        "\n",
        "  elif continents[c]=='South America':\n",
        "    samerica.append(countries[c])\n",
        "\n",
        "  elif continents[c]=='Oceania':\n",
        "    australia.append(countries[c])\n",
        "\n",
        "print(asia,africa,europe,australia,namerica,samerica,sep='\\n')"
      ],
      "metadata": {
        "id": "24v4VECCP0MS"
      },
      "execution_count": null,
      "outputs": []
    },
    {
      "cell_type": "code",
      "source": [
        "#dataset of each continent\n",
        "#dataset of African countries\n",
        "africa_df = df[df['Country'].isin(africa)]\n",
        "\n",
        "#dataset of Asian countries\n",
        "asia_df = df[df['Country'].isin(asia)]\n",
        "\n",
        "#dataset of Australian countries\n",
        "aus_df = df[df['Country'].isin(australia)]\n",
        "\n",
        "#dataset of European countries\n",
        "eu_df = df[df['Country'].isin(europe)]\n",
        "\n",
        "#dataset of North American countries\n",
        "na_df = df[df['Country'].isin(namerica)]\n",
        "\n",
        "#dataset of South American countries\n",
        "sa_df = df[df['Country'].isin(samerica)]\n",
        "\n",
        "#continent dataframe list\n",
        "continent_dfs = [africa_df, asia_df, eu_df, na_df, sa_df, aus_df]\n",
        "\n",
        "#list of continent names\n",
        "continents = ['Africa', 'Asia', 'Europe', 'North America', 'South America', 'Australia']"
      ],
      "metadata": {
        "id": "ZdqK7xYCL51P"
      },
      "execution_count": null,
      "outputs": []
    },
    {
      "cell_type": "code",
      "source": [
        "mean_values = []\n",
        "\n",
        "for df in continent_dfs:\n",
        "    # Calculate the mean of the 'Life expectancy' column for each dataframe\n",
        "    mean = df['Life expectancy '].mean()\n",
        "    # Append the mean value to the list\n",
        "    mean_values.append(mean)\n",
        "\n",
        "plt.figure(figsize=(8, 6))\n",
        "sns.barplot(x=[1, 2, 3, 4, 5, 6], y=mean_values, palette='muted')\n",
        "plt.xticks(ticks=[0, 1, 2, 3, 4, 5], labels=continents)\n",
        "plt.title('Mean Life Expectancy by Continent')\n",
        "plt.xlabel('Continent')\n",
        "plt.ylabel('Mean Life Expectancy')\n",
        "plt.show()\n"
      ],
      "metadata": {
        "id": "0GBiEv0w4IFE"
      },
      "execution_count": null,
      "outputs": []
    },
    {
      "cell_type": "code",
      "source": [
        "#ANOVA to see if life expectancy varies significantly between continents\n",
        "from scipy import stats\n",
        "\n",
        "# Perform one-way ANOVA test\n",
        "f_value, p_value = stats.f_oneway(africa_df['Life expectancy '], asia_df['Life expectancy '],\n",
        "                                  eu_df['Life expectancy '], na_df['Life expectancy '],\n",
        "                                  sa_df['Life expectancy '], aus_df['Life expectancy '])\n",
        "\n",
        "# Print the results\n",
        "print(\"F-value:\", f_value)\n",
        "print(\"p-value:\", p_value)\n",
        "\n",
        "if p_value < 0.05:\n",
        "    print(\"There is a significant difference between at least one of the continents.\")\n",
        "else:\n",
        "    print(\"There is no significant difference between the continents.\")\n"
      ],
      "metadata": {
        "id": "-0ZW7G288R51"
      },
      "execution_count": null,
      "outputs": []
    },
    {
      "cell_type": "code",
      "source": [
        "#ML model\n",
        "from sklearn.ensemble import RandomForestRegressor\n",
        "from sklearn.model_selection import train_test_split\n",
        "from sklearn.metrics import classification_report\n",
        "from sklearn.metrics import r2_score\n",
        "\n",
        "le = LabelEncoder()\n",
        "df['Status']=le.fit_transform(df['Status'])\n",
        "\n",
        "X=df[['Status','Adult Mortality',' HIV/AIDS',' thinness  1-19 years',' thinness 5-9 years',\n",
        "      'Schooling','Income composition of resources',' BMI ','GDP','Diphtheria ','Polio']]\n",
        "y=df['Life expectancy ']\n",
        "\n",
        "X_train, X_test, y_train, y_test = train_test_split(X, y, test_size=0.2, random_state=42)\n",
        "\n",
        "rf = RandomForestRegressor(n_estimators=100, random_state=42)\n",
        "rf.fit(X_train, y_train)\n",
        "\n",
        "y_pred = rf.predict(X_test)\n",
        "\n",
        "r2 = r2_score(y_test, y_pred)\n",
        "print(\"R-squared Error:\", r2)\n",
        "\n",
        "#create dataframe with actual, predicted, and country names\n",
        "predictions_df = pd.DataFrame({'Actual': y_test, 'Predicted': y_pred, 'Country': df.loc[X_test.index, 'Country']})\n",
        "\n",
        "#filter predictions where predicted life expectancy is less than 65\n",
        "low_expectancy_predictions = predictions_df[predictions_df['Predicted'] < 65]\n",
        "\n",
        "'''#check if the predicted value is within a tolerance range of the actual value\n",
        "tolerance = 1  # Tolerance range of ±1 year\n",
        "correct_predictions = low_expectancy_predictions[\n",
        "    (low_expectancy_predictions['Predicted'] >= low_expectancy_predictions['Actual'] - tolerance) &\n",
        "    (low_expectancy_predictions['Predicted'] <= low_expectancy_predictions['Actual'] + tolerance)\n",
        "]\n",
        "\n",
        "#display the country names where the prediction is correct and life expectancy is less than 65\n",
        "correct_countries = correct_predictions['Country'].tolist()'''\n",
        "\n",
        "print(\"Predicted countries with life expectancy < 65:\", low_expectancy_predictions)\n",
        "print(\"\\nActual countries:\")\n",
        "print(df[df['Life expectancy '] < 65][['Country', 'Life expectancy ']])\n",
        "print(df[df['Life expectancy '] < 65]['Country'].unique())\n",
        "\n",
        "l = ['Afghanistan', 'Angola', 'Benin', 'Bhutan', 'Bolivia (Plurinational State of)', 'Botswana',\n",
        "     'Burkina Faso', 'Burundi', \"Côte d'Ivoire\", 'Cambodia', 'Cameroon', 'Central African Republic',\n",
        "     'Chad', 'Comoros', 'Congo', 'Democratic Republic of the Congo', 'Djibouti', 'Equatorial Guinea',\n",
        "     'Eritrea', 'Ethiopia', 'Gabon', 'Gambia', 'Ghana', 'Guinea', 'Guinea-Bissau', 'Haiti', 'India',\n",
        "     'Iraq', 'Kazakhstan', 'Kenya', 'Kiribati', \"Lao People's Democratic Republic\", 'Lesotho', 'Liberia',\n",
        "     'Madagascar', 'Malawi', 'Mali', 'Mauritania', 'Mongolia', 'Mozambique', 'Myanmar', 'Namibia', 'Nauru',\n",
        "     'Nepal', 'Niger', 'Nigeria', 'Niue', 'Pakistan', 'Papua New Guinea', 'Russian Federation', 'Rwanda',\n",
        "     'Saint Kitts and Nevis', 'Sao Tome and Principe', 'Senegal', 'Sierra Leone', 'Somalia', 'South Africa',\n",
        "     'South Sudan', 'Sudan', 'Swaziland', 'Syrian Arab Republic', 'Tajikistan', 'Timor-Leste', 'Togo',\n",
        "     'Turkmenistan', 'Tuvalu', 'Uganda', 'United Republic of Tanzania', 'Yemen', 'Zambia', 'Zimbabwe']\n",
        "\n",
        "cnt=[0,0,0,0,0,0]\n",
        "for c in l:\n",
        "  if c in africa:\n",
        "    cnt[0]=cnt[0]+1\n",
        "    print(c+' belongs to Africa')\n",
        "\n",
        "  elif c in asia:\n",
        "    cnt[1]=cnt[1]+1\n",
        "    print(c+' belongs to Asia')\n",
        "\n",
        "  elif c in australia:\n",
        "    cnt[2]=cnt[2]+1\n",
        "    print(c+' belongs to Oceania')\n",
        "\n",
        "  elif c in europe:\n",
        "    cnt[3]=cnt[3]+1\n",
        "    print(c+' belongs to Europe')\n",
        "\n",
        "  elif c in namerica:\n",
        "    cnt[4]=cnt[4]+1\n",
        "    print(c+' belongs to North America')\n",
        "\n",
        "  elif c in samerica:\n",
        "    cnt[5]=cnt[5]+1\n",
        "    print(c+' belongs to South America')\n",
        "\n",
        "print(\"Total countries with life expectancy less than 65 years: \",len(l))\n",
        "continents = ['Africa', 'Asia', 'Oceania','Europe', 'North America', 'South America']\n",
        "for i in range(len(cnt)):\n",
        "  print(continents[i],': ',cnt[i])"
      ],
      "metadata": {
        "id": "1r_AEN_GX1KQ"
      },
      "execution_count": null,
      "outputs": []
    },
    {
      "cell_type": "code",
      "source": [
        "#continent-wise percentage of developed countries\n",
        "for i in range(len(continent_dfs)):\n",
        "    continent_df = continent_dfs[i]\n",
        "    continent_name = continents[i]\n",
        "\n",
        "    status_counts = continent_df['Status'].value_counts()\n",
        "\n",
        "    plt.figure()\n",
        "    plt.title(f'{continent_name} - Developed vs. Developing')\n",
        "    plt.pie(status_counts, labels=status_counts.index, autopct='%1.1f%%')\n",
        "    plt.show()\n"
      ],
      "metadata": {
        "id": "zEhBCo4CLhiD"
      },
      "execution_count": null,
      "outputs": []
    },
    {
      "cell_type": "code",
      "source": [
        "#continent-wise scatter plots\n",
        "for col in cat_cols:\n",
        "    if col != 'Life expectancy ':\n",
        "        plt.figure(figsize=(8, 6))\n",
        "\n",
        "        for df, continent in zip(continent_dfs, continents):\n",
        "            plt.scatter(df[col], df['Life expectancy '], label=continent)\n",
        "\n",
        "        plt.title(\"{} vs Life Expectancy (Continent-wise)\".format(col))\n",
        "        plt.xlabel(col)\n",
        "        plt.ylabel(\"Life Expectancy\")\n",
        "        plt.legend()\n",
        "        plt.show()\n"
      ],
      "metadata": {
        "id": "t1PTRGdnPbjU"
      },
      "execution_count": null,
      "outputs": []
    },
    {
      "cell_type": "markdown",
      "source": [
        "#1)Africa\n",
        "\n"
      ],
      "metadata": {
        "id": "vqP857aEe74U"
      }
    },
    {
      "cell_type": "code",
      "source": [
        "africa_df.describe()"
      ],
      "metadata": {
        "id": "Go9u8Zv3uKDU"
      },
      "execution_count": null,
      "outputs": []
    },
    {
      "cell_type": "code",
      "source": [
        "#Basic details\n",
        "print(\"Number of African countries: \",len(africa))\n",
        "\n",
        "#countries of lowest and higest life expectancies\n",
        "print(\"Country with lowest life expectancy\", africa_df[africa_df['Life expectancy ']==min(africa_df['Life expectancy '])]['Country'],\n",
        "      \"\\n\",africa_df[africa_df['Life expectancy ']==min(africa_df['Life expectancy '])]['Life expectancy '])\n",
        "\n",
        "print(\"Country with highest life expectancy\", africa_df[africa_df['Life expectancy ']==max(africa_df['Life expectancy '])]['Country'],\n",
        "      \"\\n\",africa_df[africa_df['Life expectancy ']==max(africa_df['Life expectancy '])]['Life expectancy '])"
      ],
      "metadata": {
        "id": "c5-NgnMt4IxE"
      },
      "execution_count": null,
      "outputs": []
    },
    {
      "cell_type": "code",
      "source": [
        "#print median, mode, and IQR of life expectancy\n",
        "print(\"Median: \",africa_df['Life expectancy '].median())\n",
        "print(\"Mode: \",africa_df['Life expectancy '].mode())\n",
        "\n",
        "q1 = africa_df['Life expectancy '].quantile(0.25)\n",
        "q3 = africa_df['Life expectancy '].quantile(0.75)\n",
        "iqr = q3 - q1\n",
        "print(\"IQR: \",iqr)"
      ],
      "metadata": {
        "id": "0uycfreIb59z"
      },
      "execution_count": null,
      "outputs": []
    },
    {
      "cell_type": "code",
      "source": [
        "#Calculate the correlation matrix\n",
        "cafrica=africa_df.drop(['Status'],axis=1) #since status=1 (developing) for all countries, we drop it\n",
        "corr_matrix = cafrica.corr()\n",
        "\n",
        "# Visualize the correlation matrix as a heatmap\n",
        "plt.figure(figsize=(15,10))\n",
        "sns.heatmap(corr_matrix, annot=True, cmap='coolwarm')\n",
        "plt.show()"
      ],
      "metadata": {
        "id": "PO_xAsMy-IAu"
      },
      "execution_count": null,
      "outputs": []
    },
    {
      "cell_type": "code",
      "source": [
        "#Time series plot for each attribute(column) over the years\n",
        "for attr in cat_cols:\n",
        "  fig=px.line(africa_df.sort_values(by='Year'),x='Year',y=attr,color='Country',markers=True,title='<b> Country-wise {} over Years'.format(attr))\n",
        "  fig.show()\n",
        "\n",
        "'''plt.figure(figsize=(10, 6))\n",
        "# Loop through each country and plot its time series\n",
        "for country in africa:\n",
        "    country_data = africa_df[africa_df['Country'] == country]\n",
        "    plt.plot(country_data['Year'], country_data['Life expectancy '], label=country)\n",
        "\n",
        "plt.legend(loc='upper left', bbox_to_anchor=(1,1)) #to see which line is which country's\n",
        "plt.xlabel('Year')\n",
        "plt.ylabel('Life Expectancy')\n",
        "plt.title('Life Expectancy in African Countries')\n",
        "plt.show()\n",
        "'''"
      ],
      "metadata": {
        "id": "2h-bcmkBblNM"
      },
      "execution_count": null,
      "outputs": []
    },
    {
      "cell_type": "code",
      "source": [
        "#Pivot table for each attribute(column) over the years\n",
        "#It allows you to summarize the data in a table format, where the rows\n",
        "#represent the countries and the columns represent the variables of interest.\n",
        "#Compared to time series plot it is easy to view without congestion\n",
        "for attr in cat_cols:\n",
        "  if attr!='Status':\n",
        "    africa_pivot = africa_df.pivot(index='Country', columns='Year', values=attr)\n",
        "\n",
        "    #create a heatmap using seaborn\n",
        "    plt.figure(figsize=(15, 15))\n",
        "    sns.heatmap(africa_pivot, cmap='YlGnBu', annot=True, fmt=\".1f\")\n",
        "    plt.title('{} in African Countries from 2000 to 2015'.format(attr))\n",
        "    plt.show()\n"
      ],
      "metadata": {
        "id": "gpWL1t35uviv"
      },
      "execution_count": null,
      "outputs": []
    },
    {
      "cell_type": "code",
      "source": [
        "#distribution curve\n",
        "for col in cat_cols:\n",
        "    if col!= 'Life expectancy ' and col!='Status':\n",
        "      plt.figure(figsize=(8, 5))\n",
        "      sns.kdeplot(africa_df[col], shade=True)\n",
        "      plt.title(\"{} vs Life expectancy\".format(col))\n",
        "      plt.xlabel(col)\n",
        "      plt.ylabel(\"Life expectancy\")\n",
        "      plt.show()"
      ],
      "metadata": {
        "id": "EkxGwMsSpM0b"
      },
      "execution_count": null,
      "outputs": []
    },
    {
      "cell_type": "code",
      "source": [
        "#scatter plots wrt life expectancy\n",
        "dless_than_20 = africa_df[africa_df['Life expectancy '] < 20]\n",
        "dbetween_20_50 = africa_df[(africa_df['Life expectancy '] >= 20) & (africa_df['Life expectancy '] < 50)]\n",
        "dbetween_50_70 = africa_df[(africa_df['Life expectancy '] >= 50) & (africa_df['Life expectancy '] < 70)]\n",
        "dgreater_than_70 = africa_df[africa_df['Life expectancy '] >= 70]\n",
        "\n",
        "for col in cat_cols:\n",
        "    if col!= 'Life expectancy ' and col!='Status':\n",
        "        plt.figure(figsize=(8, 6))\n",
        "        plt.scatter(dless_than_20[col], dless_than_20['Life expectancy '], label='age<20')\n",
        "        plt.scatter(dbetween_20_50[col], dbetween_20_50['Life expectancy '], label='20<=age<50')\n",
        "        plt.scatter(dbetween_50_70[col], dbetween_50_70['Life expectancy '], label='50<=age70')\n",
        "        plt.scatter(dgreater_than_70[col], dgreater_than_70['Life expectancy '], label='age>=70')\n",
        "        plt.title(\"{} vs Life expectancy(age)\".format(col))\n",
        "        plt.xlabel(col)\n",
        "        plt.ylabel(\"Life expectancy\")\n",
        "        plt.legend()\n",
        "        plt.show()"
      ],
      "metadata": {
        "id": "7w8Gy3l3p28g"
      },
      "execution_count": null,
      "outputs": []
    },
    {
      "cell_type": "code",
      "source": [
        "#to create boxplots\n",
        "for column in cat_cols:\n",
        "  if column!='Status':\n",
        "    plt.figure(figsize=(10,5))\n",
        "    sns.boxplot(x='Year', y=column, data=africa_df)\n",
        "    plt.title('Distribution of ' + column + ' by Year')\n",
        "    plt.show()"
      ],
      "metadata": {
        "id": "uv6yjxrMELvU"
      },
      "execution_count": null,
      "outputs": []
    },
    {
      "cell_type": "markdown",
      "source": [
        "#2)Asia"
      ],
      "metadata": {
        "id": "FP2qnWVAEZ5J"
      }
    },
    {
      "cell_type": "code",
      "source": [
        "asia_df.describe()"
      ],
      "metadata": {
        "id": "mfiiTZJDFacf"
      },
      "execution_count": null,
      "outputs": []
    },
    {
      "cell_type": "code",
      "source": [
        "#Basic details\n",
        "print(\"Number of Asian countries: \",len(asia))\n",
        "print(\"Developed countries: \",asia_df[asia_df['Status']=='Developed']['Country'].unique())\n",
        "\n",
        "#countries of lowest and higest life expectancies\n",
        "print(\"Country with lowest life expectancy\", asia_df[asia_df['Life expectancy ']==min(asia_df['Life expectancy '])]['Country'],\n",
        "      \"\\n\",asia_df[asia_df['Life expectancy ']==min(asia_df['Life expectancy '])]['Life expectancy '])\n",
        "\n",
        "print(\"Country with highest life expectancy\", asia_df[asia_df['Life expectancy ']==max(asia_df['Life expectancy '])]['Country'],\n",
        "      \"\\n\",asia_df[asia_df['Life expectancy ']==max(asia_df['Life expectancy '])]['Life expectancy '])"
      ],
      "metadata": {
        "id": "tm2o6FqMFoCQ"
      },
      "execution_count": null,
      "outputs": []
    },
    {
      "cell_type": "code",
      "source": [
        "#print median, mode, and IQR of life expectancy\n",
        "print(\"Median: \",asia_df['Life expectancy '].median())\n",
        "print(\"Mode: \",asia_df['Life expectancy '].mode())\n",
        "\n",
        "q1 = asia_df['Life expectancy '].quantile(0.25)\n",
        "q3 = asia_df['Life expectancy '].quantile(0.75)\n",
        "iqr = q3 - q1\n",
        "print(\"IQR: \",iqr)"
      ],
      "metadata": {
        "id": "5gnFYpxHELeq"
      },
      "execution_count": null,
      "outputs": []
    },
    {
      "cell_type": "code",
      "source": [
        "#convert categorical column to numeric\n",
        "le = LabelEncoder()\n",
        "asia_df['Status']=le.fit_transform(asia_df['Status'])\n",
        "\n",
        "# Calculate the correlation matrix\n",
        "corr_matrix = asia_df.corr()\n",
        "\n",
        "# Visualize the correlation matrix as a heatmap\n",
        "plt.figure(figsize=(15,10))\n",
        "sns.heatmap(corr_matrix, annot=True, cmap='coolwarm')\n",
        "plt.show()"
      ],
      "metadata": {
        "id": "LtUMUhCFcoKW"
      },
      "execution_count": null,
      "outputs": []
    },
    {
      "cell_type": "code",
      "source": [
        "#Time series plot for each attribute(column) over the years\n",
        "for attr in cat_cols:\n",
        "  fig=px.line(asia_df.sort_values(by='Year'),x='Year',y=attr,color='Country',markers=True,title='<b> Country-wise {} over Years'.format(attr))\n",
        "  fig.show()"
      ],
      "metadata": {
        "id": "mynhhhpYc7X1"
      },
      "execution_count": null,
      "outputs": []
    },
    {
      "cell_type": "code",
      "source": [
        "for attr in cat_cols:\n",
        "  if attr!='Status':\n",
        "    asia_pivot = asia_df.pivot(index='Country', columns='Year', values=attr)\n",
        "\n",
        "    #create a heatmap using seaborn\n",
        "    plt.figure(figsize=(15, 15))\n",
        "    sns.heatmap(asia_pivot, cmap='YlGnBu', annot=True, fmt=\".1f\")\n",
        "    plt.title('{} in Asian Countries from 2000 to 2015'.format(attr))\n",
        "    plt.show()"
      ],
      "metadata": {
        "id": "ub6AO8GadJwU"
      },
      "execution_count": null,
      "outputs": []
    },
    {
      "cell_type": "code",
      "source": [
        "#to create boxplots\n",
        "for column in cat_cols:\n",
        "  if column!='Status':\n",
        "    plt.figure(figsize=(10,5))\n",
        "    sns.boxplot(x='Year', y=column, data=asia_df, palette='Spectral')\n",
        "    plt.title('Distribution of ' + column + ' by Year')\n",
        "    plt.show()\n"
      ],
      "metadata": {
        "id": "oslq_-fXec69"
      },
      "execution_count": null,
      "outputs": []
    },
    {
      "cell_type": "markdown",
      "source": [
        "#3)Oceania"
      ],
      "metadata": {
        "id": "FD5iz1Uceo5c"
      }
    },
    {
      "cell_type": "code",
      "source": [
        "aus_df.describe()"
      ],
      "metadata": {
        "id": "1iKSYRSOeuSD"
      },
      "execution_count": null,
      "outputs": []
    },
    {
      "cell_type": "code",
      "source": [
        "#Basic details\n",
        "print(\"Number of Australian countries: \",len(australia))\n",
        "print(\"Developed countries: \",aus_df[aus_df['Status']=='Developed']['Country'].unique())\n",
        "\n",
        "#countries of lowest and higest life expectancies\n",
        "print(\"Country with lowest life expectancy\", aus_df[aus_df['Life expectancy ']==min(aus_df['Life expectancy '])]['Country'],\n",
        "      \"\\n\",aus_df[aus_df['Life expectancy ']==min(aus_df['Life expectancy '])]['Life expectancy '])\n",
        "\n",
        "print(\"Country with highest life expectancy\", aus_df[aus_df['Life expectancy ']==max(aus_df['Life expectancy '])]['Country'],\n",
        "      \"\\n\",aus_df[aus_df['Life expectancy ']==max(aus_df['Life expectancy '])]['Life expectancy '])"
      ],
      "metadata": {
        "id": "WUl2vKbge5om"
      },
      "execution_count": null,
      "outputs": []
    },
    {
      "cell_type": "code",
      "source": [
        "#print median, mode, and IQR of life expectancy\n",
        "print(\"Median: \",aus_df['Life expectancy '].median())\n",
        "print(\"Mode: \",aus_df['Life expectancy '].mode())\n",
        "\n",
        "q1 = aus_df['Life expectancy '].quantile(0.25)\n",
        "q3 = aus_df['Life expectancy '].quantile(0.75)\n",
        "iqr = q3 - q1\n",
        "print(\"IQR: \",iqr)"
      ],
      "metadata": {
        "id": "zgQIwbEKF7uL"
      },
      "execution_count": null,
      "outputs": []
    },
    {
      "cell_type": "code",
      "source": [
        "#convert categorical column to numeric\n",
        "le = LabelEncoder()\n",
        "aus_df['Status']=le.fit_transform(aus_df['Status'])\n",
        "\n",
        "# Calculate the correlation matrix\n",
        "corr_matrix = aus_df.corr()\n",
        "\n",
        "# Visualize the correlation matrix as a heatmap\n",
        "plt.figure(figsize=(15,10))\n",
        "sns.heatmap(corr_matrix, annot=True, cmap='coolwarm')\n",
        "plt.show()"
      ],
      "metadata": {
        "id": "Z3ZydTptfU-l"
      },
      "execution_count": null,
      "outputs": []
    },
    {
      "cell_type": "code",
      "source": [
        "#Time series plot for each attribute(column) over the years\n",
        "for attr in cat_cols:\n",
        "  fig=px.line(aus_df.sort_values(by='Year'),x='Year',y=attr,color='Country',markers=True,title='<b> Country-wise {} over Years'.format(attr))\n",
        "  fig.show()"
      ],
      "metadata": {
        "id": "5ds8tIi4fik8"
      },
      "execution_count": null,
      "outputs": []
    },
    {
      "cell_type": "code",
      "source": [
        "for attr in cat_cols:\n",
        "  if attr!='Status':\n",
        "    aus_pivot = aus_df.pivot(index='Country', columns='Year', values=attr)\n",
        "\n",
        "    #create a heatmap using seaborn\n",
        "    plt.figure(figsize=(15, 15))\n",
        "    sns.heatmap(aus_pivot, cmap='YlGnBu', annot=True, fmt=\".1f\")\n",
        "    plt.title('{} in Australian Countries from 2000 to 2015'.format(attr))\n",
        "    plt.show()"
      ],
      "metadata": {
        "id": "T6TggrxufzzO"
      },
      "execution_count": null,
      "outputs": []
    },
    {
      "cell_type": "code",
      "source": [
        "#to create boxplots\n",
        "for column in cat_cols:\n",
        "  if column!='Status':\n",
        "    plt.figure(figsize=(10,5))\n",
        "    sns.boxplot(x='Year', y=column, data=aus_df, palette='Greens')\n",
        "    plt.title('Distribution of ' + column + ' by Year')\n",
        "    plt.show()"
      ],
      "metadata": {
        "id": "PFDpB-6Ygfuk"
      },
      "execution_count": null,
      "outputs": []
    },
    {
      "cell_type": "markdown",
      "source": [
        "#4)Europe"
      ],
      "metadata": {
        "id": "4_EXcaBUgsnt"
      }
    },
    {
      "cell_type": "code",
      "source": [
        "eu_df.describe()"
      ],
      "metadata": {
        "id": "lxiXZwHuhPLT"
      },
      "execution_count": null,
      "outputs": []
    },
    {
      "cell_type": "code",
      "source": [
        "#Basic details\n",
        "print(\"Number of European countries: \",len(europe))\n",
        "print(\"Developed countries: \",eu_df[eu_df['Status']=='Developed']['Country'].unique())\n",
        "\n",
        "#countries of lowest and higest life expectancies\n",
        "print(\"Country with lowest life expectancy\", eu_df[eu_df['Life expectancy ']==min(eu_df['Life expectancy '])]['Country'],\n",
        "      \"\\n\",eu_df[eu_df['Life expectancy ']==min(eu_df['Life expectancy '])]['Life expectancy '])\n",
        "\n",
        "print(\"Country with highest life expectancy\", eu_df[eu_df['Life expectancy ']==max(eu_df['Life expectancy '])]['Country'],\n",
        "      \"\\n\",eu_df[eu_df['Life expectancy ']==max(eu_df['Life expectancy '])]['Life expectancy '])"
      ],
      "metadata": {
        "id": "3AayLc5EhZ9N"
      },
      "execution_count": null,
      "outputs": []
    },
    {
      "cell_type": "code",
      "source": [
        "#print median, mode, and IQR of life expectancy\n",
        "print(\"Median: \",eu_df['Life expectancy '].median())\n",
        "print(\"Mode: \",eu_df['Life expectancy '].mode())\n",
        "\n",
        "q1 = eu_df['Life expectancy '].quantile(0.25)\n",
        "q3 = eu_df['Life expectancy '].quantile(0.75)\n",
        "iqr = q3 - q1\n",
        "print(\"IQR: \",iqr)"
      ],
      "metadata": {
        "id": "P6UflgpUGJbi"
      },
      "execution_count": null,
      "outputs": []
    },
    {
      "cell_type": "code",
      "source": [
        "#convert categorical column to numeric\n",
        "le = LabelEncoder()\n",
        "eu_df['Status']=le.fit_transform(eu_df['Status'])\n",
        "\n",
        "# Calculate the correlation matrix\n",
        "corr_matrix = eu_df.corr()\n",
        "\n",
        "# Visualize the correlation matrix as a heatmap\n",
        "plt.figure(figsize=(15,10))\n",
        "sns.heatmap(corr_matrix, annot=True, cmap='coolwarm')\n",
        "plt.show()"
      ],
      "metadata": {
        "id": "0ApS87cdiDG0"
      },
      "execution_count": null,
      "outputs": []
    },
    {
      "cell_type": "code",
      "source": [
        "#Time series plot for each attribute(column) over the years\n",
        "for attr in cat_cols:\n",
        "  fig=px.line(eu_df.sort_values(by='Year'),x='Year',y=attr,color='Country',markers=True,title='<b> Country-wise {} over Years'.format(attr))\n",
        "  fig.show()"
      ],
      "metadata": {
        "id": "R4JJpFzViNib"
      },
      "execution_count": null,
      "outputs": []
    },
    {
      "cell_type": "code",
      "source": [
        "for attr in cat_cols:\n",
        "  if attr!='Status':\n",
        "    eu_pivot = eu_df.pivot(index='Country', columns='Year', values=attr)\n",
        "\n",
        "    #create a heatmap using seaborn\n",
        "    plt.figure(figsize=(15, 15))\n",
        "    sns.heatmap(eu_pivot, cmap='YlGnBu', annot=True, fmt=\".1f\")\n",
        "    plt.title('{} in European Countries from 2000 to 2015'.format(attr))\n",
        "    plt.show()"
      ],
      "metadata": {
        "id": "fF0Q9hVwibBM"
      },
      "execution_count": null,
      "outputs": []
    },
    {
      "cell_type": "code",
      "source": [
        "#to create boxplots\n",
        "for column in cat_cols:\n",
        "  if column!='Status':\n",
        "    plt.figure(figsize=(10,5))\n",
        "    sns.boxplot(x='Year', y=column, data=eu_df, palette='flare')\n",
        "    plt.title('Distribution of ' + column + ' by Year')\n",
        "    plt.show()"
      ],
      "metadata": {
        "id": "sJgNAbIYjRec"
      },
      "execution_count": null,
      "outputs": []
    },
    {
      "cell_type": "markdown",
      "source": [
        "#5)North America"
      ],
      "metadata": {
        "id": "dZBGGbRejbmz"
      }
    },
    {
      "cell_type": "code",
      "source": [
        "na_df.describe()"
      ],
      "metadata": {
        "id": "FwSefRjzjbG7"
      },
      "execution_count": null,
      "outputs": []
    },
    {
      "cell_type": "code",
      "source": [
        "#Basic details\n",
        "print(\"Number of North American countries: \",len(namerica))\n",
        "print(\"Developed countries: \",na_df[na_df['Status']=='Developed']['Country'].unique())\n",
        "\n",
        "#countries of lowest and higest life expectancies\n",
        "print(\"Country with lowest life expectancy\", na_df[na_df['Life expectancy ']==min(na_df['Life expectancy '])]['Country'],\n",
        "      \"\\n\",na_df[na_df['Life expectancy ']==min(na_df['Life expectancy '])]['Life expectancy '])\n",
        "\n",
        "print(\"Country with highest life expectancy\", na_df[na_df['Life expectancy ']==max(na_df['Life expectancy '])]['Country'],\n",
        "      \"\\n\",na_df[na_df['Life expectancy ']==max(na_df['Life expectancy '])]['Life expectancy '])"
      ],
      "metadata": {
        "id": "5SUrv5Fsjoea"
      },
      "execution_count": null,
      "outputs": []
    },
    {
      "cell_type": "code",
      "source": [
        "#print median, mode, and IQR of life expectancy\n",
        "print(\"Median: \",na_df['Life expectancy '].median())\n",
        "print(\"Mode: \",na_df['Life expectancy '].mode())\n",
        "\n",
        "q1 = na_df['Life expectancy '].quantile(0.25)\n",
        "q3 = na_df['Life expectancy '].quantile(0.75)\n",
        "iqr = q3 - q1\n",
        "print(\"IQR: \",iqr)"
      ],
      "metadata": {
        "id": "kcJJik8MGYtx"
      },
      "execution_count": null,
      "outputs": []
    },
    {
      "cell_type": "code",
      "source": [
        "#convert categorical column to numeric\n",
        "le = LabelEncoder()\n",
        "na_df['Status']=le.fit_transform(na_df['Status'])\n",
        "\n",
        "# Calculate the correlation matrix\n",
        "corr_matrix = na_df.corr()\n",
        "\n",
        "# Visualize the correlation matrix as a heatmap\n",
        "plt.figure(figsize=(15,10))\n",
        "sns.heatmap(corr_matrix, annot=True, cmap='coolwarm')\n",
        "plt.show()"
      ],
      "metadata": {
        "id": "iHSED8AOj5C7"
      },
      "execution_count": null,
      "outputs": []
    },
    {
      "cell_type": "code",
      "source": [
        "#Time series plot for each attribute(column) over the years\n",
        "for attr in cat_cols:\n",
        "  fig=px.line(na_df.sort_values(by='Year'),x='Year',y=attr,color='Country',markers=True,title='<b> Country-wise {} over Years'.format(attr))\n",
        "  fig.show()"
      ],
      "metadata": {
        "id": "KsZG_tDCkKND"
      },
      "execution_count": null,
      "outputs": []
    },
    {
      "cell_type": "code",
      "source": [
        "for attr in cat_cols:\n",
        "  if attr!='Status':\n",
        "    na_pivot = na_df.pivot(index='Country', columns='Year', values=attr)\n",
        "\n",
        "    #create a heatmap using seaborn\n",
        "    plt.figure(figsize=(15, 15))\n",
        "    sns.heatmap(na_pivot, cmap='YlGnBu', annot=True, fmt=\".1f\")\n",
        "    plt.title('{} in North American Countries from 2000 to 2015'.format(attr))\n",
        "    plt.show()"
      ],
      "metadata": {
        "id": "CB_9p-TQkSqy"
      },
      "execution_count": null,
      "outputs": []
    },
    {
      "cell_type": "code",
      "source": [
        "#to create boxplots\n",
        "for column in cat_cols:\n",
        "  if column!='Status':\n",
        "    plt.figure(figsize=(10,5))\n",
        "    sns.boxplot(x='Year', y=column, data=na_df, palette=\"Reds\")\n",
        "    plt.title('Distribution of ' + column + ' by Year')\n",
        "    plt.show()"
      ],
      "metadata": {
        "id": "SMd8nSyHld_z"
      },
      "execution_count": null,
      "outputs": []
    },
    {
      "cell_type": "markdown",
      "source": [
        "#6)South America"
      ],
      "metadata": {
        "id": "h5rO-tillmda"
      }
    },
    {
      "cell_type": "code",
      "source": [
        "sa_df.describe()"
      ],
      "metadata": {
        "id": "RUhVNoBJlpua"
      },
      "execution_count": null,
      "outputs": []
    },
    {
      "cell_type": "code",
      "source": [
        "#Basic details\n",
        "print(\"Number of South American countries: \",len(samerica))\n",
        "print(\"Developed countries: \",sa_df[sa_df['Status']=='Developed']['Country'].unique())\n",
        "\n",
        "#countries of lowest and higest life expectancies\n",
        "print(\"Country with lowest life expectancy\", sa_df[sa_df['Life expectancy ']==min(sa_df['Life expectancy '])]['Country'],\n",
        "      \"\\n\",sa_df[sa_df['Life expectancy ']==min(sa_df['Life expectancy '])]['Life expectancy '])\n",
        "\n",
        "print(\"Country with highest life expectancy\", sa_df[sa_df['Life expectancy ']==max(sa_df['Life expectancy '])]['Country'],\n",
        "      \"\\n\",sa_df[sa_df['Life expectancy ']==max(sa_df['Life expectancy '])]['Life expectancy '])"
      ],
      "metadata": {
        "id": "UblYisw3lv2y"
      },
      "execution_count": null,
      "outputs": []
    },
    {
      "cell_type": "code",
      "source": [
        "#print median, mode, and IQR of life expectancy\n",
        "print(\"Median: \",sa_df['Life expectancy '].median())\n",
        "print(\"Mode: \",sa_df['Life expectancy '].mode())\n",
        "\n",
        "q1 = sa_df['Life expectancy '].quantile(0.25)\n",
        "q3 = sa_df['Life expectancy '].quantile(0.75)\n",
        "iqr = q3 - q1\n",
        "print(\"IQR: \",iqr)"
      ],
      "metadata": {
        "id": "VhmzFTQnGoA5"
      },
      "execution_count": null,
      "outputs": []
    },
    {
      "cell_type": "code",
      "source": [
        "#Calculate the correlation matrix\n",
        "csa=sa_df.drop(['Status'],axis=1) #no. of developed countries=0\n",
        "corr_matrix = csa.corr()\n",
        "\n",
        "# Visualize the correlation matrix as a heatmap\n",
        "plt.figure(figsize=(15,10))\n",
        "sns.heatmap(corr_matrix, annot=True, cmap='coolwarm')\n",
        "plt.show()"
      ],
      "metadata": {
        "id": "R-Bx_RNAmAxi"
      },
      "execution_count": null,
      "outputs": []
    },
    {
      "cell_type": "code",
      "source": [
        "#Time series plot for each attribute(column) over the years\n",
        "for attr in cat_cols:\n",
        "  fig=px.line(sa_df.sort_values(by='Year'),x='Year',y=attr,color='Country',markers=True,title='<b> Country-wise {} over Years'.format(attr))\n",
        "  fig.show()"
      ],
      "metadata": {
        "id": "8CkLDrnWmObi"
      },
      "execution_count": null,
      "outputs": []
    },
    {
      "cell_type": "code",
      "source": [
        "for attr in cat_cols:\n",
        "  if attr!='Status':\n",
        "    sa_pivot = sa_df.pivot(index='Country', columns='Year', values=attr)\n",
        "\n",
        "    #create a heatmap using seaborn\n",
        "    plt.figure(figsize=(15, 15))\n",
        "    sns.heatmap(sa_pivot, cmap='YlGnBu', annot=True, fmt=\".1f\")\n",
        "    plt.title('{} in South American Countries from 2000 to 2015'.format(attr))\n",
        "    plt.show()"
      ],
      "metadata": {
        "id": "doqT3TGBmYbq"
      },
      "execution_count": null,
      "outputs": []
    },
    {
      "cell_type": "code",
      "source": [
        "#to create boxplots\n",
        "for column in cat_cols:\n",
        "  if column!='Status':\n",
        "    plt.figure(figsize=(10,5))\n",
        "    sns.boxplot(x='Year', y=column, data=sa_df, palette=\"Blues\")\n",
        "    plt.title('Distribution of ' + column + ' by Year')\n",
        "    plt.show()"
      ],
      "metadata": {
        "id": "e0YT3_Nbm7Y6"
      },
      "execution_count": null,
      "outputs": []
    },
    {
      "cell_type": "markdown",
      "source": [
        "#Descriptive ML Models"
      ],
      "metadata": {
        "id": "q-6fcKnrm1G6"
      }
    },
    {
      "cell_type": "markdown",
      "source": [
        "#1)Global"
      ],
      "metadata": {
        "id": "urqm_k1et86f"
      }
    },
    {
      "cell_type": "code",
      "source": [
        "#Linear relationship between positively correlated variables\n",
        "p={'infant deaths':'under-five deaths ',' thinness  1-19 years':' thinness 5-9 years','percentage expenditure':'GDP',\n",
        "   'Income composition of resources':'Schooling'}\n",
        "\n",
        "for k in p.keys():\n",
        "    d1=df[k].values.reshape(-1, 1)\n",
        "    d2=df[p[k]].values.reshape(-1, 1)\n",
        "\n",
        "    linear_regressor = LinearRegression()\n",
        "    linear_regressor.fit(d1, d2)  #linear regression\n",
        "    pred = linear_regressor.predict(d1)  # make predictions\n",
        "\n",
        "    plt.scatter(d1, d2)\n",
        "    plt.plot(d1, pred, color='purple')\n",
        "    plt.xlabel(k)\n",
        "    plt.ylabel(p[k])\n",
        "    plt.title('{} VS {}'.format(k,p[k]))\n",
        "    plt.show()"
      ],
      "metadata": {
        "id": "RzUJ2B7YSsRC"
      },
      "execution_count": null,
      "outputs": []
    },
    {
      "cell_type": "code",
      "source": [
        "#Logistic regression\n",
        "d1 = df['Alcohol'].values\n",
        "d2 = df['Status'].values\n",
        "\n",
        "logis = LogisticRegression()\n",
        "logis.fit(d1.reshape(-1, 1), d2)\n",
        "d1_range = np.arange(d1.min(), d1.max(), 0.1)\n",
        "#[:, 1] gives the predicted probabilities for class label 1 (Developing).\n",
        "prob = logis.predict_proba(d1_range.reshape(-1, 1))[:, 1]\n",
        "plt.plot(d1_range, prob, color='red')\n",
        "plt.scatter(d1, d2)\n",
        "plt.xlabel('Alcohol')\n",
        "plt.ylabel('Probability of Status(0-Developed, 1-Developing)')\n",
        "plt.show()"
      ],
      "metadata": {
        "id": "gcJAxJ-2anDm"
      },
      "execution_count": null,
      "outputs": []
    },
    {
      "cell_type": "markdown",
      "source": [
        "#2)Africa"
      ],
      "metadata": {
        "id": "uHJhS1BL492n"
      }
    },
    {
      "cell_type": "code",
      "source": [
        "#Linear relationship between positively correlated variables\n",
        "p={'infant deaths':'under-five deaths ',' thinness  1-19 years':' thinness 5-9 years',\n",
        "   'Income composition of resources':'Schooling','Diphtheria ':'Polio'}\n",
        "\n",
        "for k in p.keys():\n",
        "    d1=africa_df[k].values.reshape(-1, 1)\n",
        "    d2=africa_df[p[k]].values.reshape(-1, 1)\n",
        "\n",
        "    linear_regressor = LinearRegression()\n",
        "    linear_regressor.fit(d1, d2)  #linear regression\n",
        "    pred = linear_regressor.predict(d1)  # make predictions\n",
        "\n",
        "    plt.scatter(d1, d2)\n",
        "    plt.plot(d1, pred, color='purple')\n",
        "    plt.xlabel(k)\n",
        "    plt.ylabel(p[k])\n",
        "    plt.title('{} VS {}'.format(k,p[k]))\n",
        "    plt.show()"
      ],
      "metadata": {
        "id": "BCC3xw4GnwYp"
      },
      "execution_count": null,
      "outputs": []
    },
    {
      "cell_type": "markdown",
      "source": [
        "#3)Asia"
      ],
      "metadata": {
        "id": "i9mzejDuoX0K"
      }
    },
    {
      "cell_type": "code",
      "source": [
        "#Linear relationship between positively correlated variables\n",
        "p={'infant deaths':'under-five deaths ',' thinness  1-19 years':' thinness 5-9 years',\n",
        "   'GDP':'percentage expenditure'}\n",
        "\n",
        "for k in p.keys():\n",
        "    d1=asia_df[k].values.reshape(-1, 1)\n",
        "    d2=asia_df[p[k]].values.reshape(-1, 1)\n",
        "\n",
        "    linear_regressor = LinearRegression()\n",
        "    linear_regressor.fit(d1, d2)  #linear regression\n",
        "    pred = linear_regressor.predict(d1)  # make predictions\n",
        "\n",
        "    plt.scatter(d1, d2)\n",
        "    plt.plot(d1, pred, color='purple')\n",
        "    plt.xlabel(k)\n",
        "    plt.ylabel(p[k])\n",
        "    plt.title('{} VS {}'.format(k,p[k]))\n",
        "    plt.show()"
      ],
      "metadata": {
        "id": "1Uit6mbaqe5w"
      },
      "execution_count": null,
      "outputs": []
    },
    {
      "cell_type": "code",
      "source": [
        "#Logistic regression\n",
        "d1 = asia_df['percentage expenditure'].values\n",
        "d2 = asia_df['Status'].values\n",
        "\n",
        "logis = LogisticRegression()\n",
        "logis.fit(d1.reshape(-1, 1), d2)\n",
        "d1_range = np.arange(d1.min(), d1.max(), 0.1)\n",
        "prob = logis.predict_proba(d1_range.reshape(-1, 1))[:, 1]\n",
        "plt.plot(d1_range, prob, color='red')\n",
        "plt.scatter(d1, d2)\n",
        "plt.xlabel('Percentage expenditure')\n",
        "plt.ylabel('Probability of Status(0-Developed, 1-Developing)')\n",
        "plt.show()"
      ],
      "metadata": {
        "id": "kW64j_RqqQJK"
      },
      "execution_count": null,
      "outputs": []
    },
    {
      "cell_type": "code",
      "source": [
        "#Logistic regression\n",
        "d1 = asia_df['Life expectancy '].values\n",
        "d2 = asia_df['Status'].values\n",
        "\n",
        "logis = LogisticRegression()\n",
        "logis.fit(d1.reshape(-1, 1), d2)\n",
        "d1_range = np.arange(d1.min(), d1.max(), 0.1)\n",
        "prob = logis.predict_proba(d1_range.reshape(-1, 1))[:, 1]\n",
        "plt.plot(d1_range, prob, color='red')\n",
        "plt.scatter(d1, d2)\n",
        "plt.xlabel('Life expectancy ')\n",
        "plt.ylabel('Probability of Status(0-Developed, 1-Developing)')\n",
        "plt.show()"
      ],
      "metadata": {
        "id": "o6r8IY2pwiKj"
      },
      "execution_count": null,
      "outputs": []
    },
    {
      "cell_type": "markdown",
      "source": [
        "#4)Australia"
      ],
      "metadata": {
        "id": "oDk59fNxrKbI"
      }
    },
    {
      "cell_type": "code",
      "source": [
        "#Linear relationship between positively correlated variables\n",
        "p={'infant deaths':'under-five deaths ',' thinness  1-19 years':' thinness 5-9 years',\n",
        "   ' HIV/AIDS':'under-five deaths ',' HIV/AIDS':'infant deaths','GDP':'percentage expenditure',\n",
        "   'Alcohol':'Schooling','Income composition of resources':'Schooling'}\n",
        "\n",
        "for k in p.keys():\n",
        "    d1=aus_df[k].values.reshape(-1, 1)\n",
        "    d2=aus_df[p[k]].values.reshape(-1, 1)\n",
        "\n",
        "    linear_regressor = LinearRegression()\n",
        "    linear_regressor.fit(d1, d2)  #linear regression\n",
        "    pred = linear_regressor.predict(d1)  # make predictions\n",
        "\n",
        "    plt.scatter(d1, d2)\n",
        "    plt.plot(d1, pred, color='purple')\n",
        "    plt.xlabel(k)\n",
        "    plt.ylabel(p[k])\n",
        "    plt.title('{} VS {}'.format(k,p[k]))\n",
        "    plt.show()"
      ],
      "metadata": {
        "id": "ZeldPYVgtLew"
      },
      "execution_count": null,
      "outputs": []
    },
    {
      "cell_type": "code",
      "source": [
        "#Logistic regression\n",
        "n=['Alcohol','Schooling','GDP','percentage expenditure']\n",
        "\n",
        "for c in n:\n",
        "    d1 = aus_df[c].values\n",
        "    d2 = aus_df['Status'].values\n",
        "\n",
        "    logis = LogisticRegression()\n",
        "    logis.fit(d1.reshape(-1, 1), d2)\n",
        "    d1_range = np.arange(d1.min(), d1.max(), 0.1)\n",
        "    prob = logis.predict_proba(d1_range.reshape(-1, 1))[:, 1]\n",
        "    plt.plot(d1_range, prob, color='red')\n",
        "    plt.scatter(d1, d2)\n",
        "    plt.xlabel(c)\n",
        "    plt.ylabel('Probability of Status(0-Developed, 1-Developing)')\n",
        "    plt.show()"
      ],
      "metadata": {
        "id": "X83SFr69s2En"
      },
      "execution_count": null,
      "outputs": []
    },
    {
      "cell_type": "markdown",
      "source": [
        "#5)Europe"
      ],
      "metadata": {
        "id": "zM3nC4VLdKT6"
      }
    },
    {
      "cell_type": "code",
      "source": [
        "#Linear relationship between positively correlated variables\n",
        "p={'infant deaths':'under-five deaths ',' thinness  1-19 years':' thinness 5-9 years',\n",
        "   'GDP':'percentage expenditure'}\n",
        "\n",
        "for k in p.keys():\n",
        "    d1=eu_df[k].values.reshape(-1, 1)\n",
        "    d2=eu_df[p[k]].values.reshape(-1, 1)\n",
        "\n",
        "    linear_regressor = LinearRegression()\n",
        "    linear_regressor.fit(d1, d2)  #linear regression\n",
        "    pred = linear_regressor.predict(d1)  # make predictions\n",
        "\n",
        "    plt.scatter(d1, d2)\n",
        "    plt.plot(d1, pred, color='purple')\n",
        "    plt.xlabel(k)\n",
        "    plt.ylabel(p[k])\n",
        "    plt.title('{} VS {}'.format(k,p[k]))\n",
        "    plt.show()"
      ],
      "metadata": {
        "id": "bR2_l7F_eiz1"
      },
      "execution_count": null,
      "outputs": []
    },
    {
      "cell_type": "code",
      "source": [
        "#Linear relationship between negatively correlated variables\n",
        "n={' thinness  1-19 years':'Income composition of resources',' thinness 5-9 years':'Income composition of resources'}\n",
        "\n",
        "for k in n.keys():\n",
        "    d1=eu_df[k].values.reshape(-1, 1)\n",
        "    d2=eu_df[n[k]].values.reshape(-1, 1)\n",
        "\n",
        "    linear_regressor = LinearRegression()\n",
        "    linear_regressor.fit(d1, d2)  #linear regression\n",
        "    pred = linear_regressor.predict(d1)  # make predictions\n",
        "\n",
        "    plt.scatter(d1, d2)\n",
        "    plt.plot(d1, pred, color='red')\n",
        "    plt.xlabel(k)\n",
        "    plt.ylabel(n[k])\n",
        "    plt.title('{} VS {}'.format(k,n[k]))\n",
        "    plt.show()"
      ],
      "metadata": {
        "id": "wu0LHV8md3Zy"
      },
      "execution_count": null,
      "outputs": []
    },
    {
      "cell_type": "markdown",
      "source": [
        "#6)North America"
      ],
      "metadata": {
        "id": "IuErOTExm7CR"
      }
    },
    {
      "cell_type": "code",
      "source": [
        "#Linear relationship between positively correlated variables\n",
        "p={'infant deaths':'under-five deaths ',' thinness  1-19 years':' thinness 5-9 years',\n",
        "   'GDP':'percentage expenditure'}\n",
        "\n",
        "for k in p.keys():\n",
        "    d1=na_df[k].values.reshape(-1, 1)\n",
        "    d2=na_df[p[k]].values.reshape(-1, 1)\n",
        "\n",
        "    linear_regressor = LinearRegression()\n",
        "    linear_regressor.fit(d1, d2)  #linear regression\n",
        "    pred = linear_regressor.predict(d1)  # make predictions\n",
        "\n",
        "    plt.scatter(d1, d2)\n",
        "    plt.plot(d1, pred, color='purple')\n",
        "    plt.xlabel(k)\n",
        "    plt.ylabel(p[k])\n",
        "    plt.title('{} VS {}'.format(k,p[k]))\n",
        "    plt.show()"
      ],
      "metadata": {
        "id": "zmE_zfgm7zaB"
      },
      "execution_count": null,
      "outputs": []
    },
    {
      "cell_type": "code",
      "source": [
        "#Logistic regression\n",
        "d1 = na_df['Total expenditure'].values\n",
        "d2 = na_df['Status'].values\n",
        "\n",
        "logis = LogisticRegression()\n",
        "logis.fit(d1.reshape(-1, 1), d2)\n",
        "d1_range = np.arange(d1.min(), d1.max(), 0.1)\n",
        "prob = logis.predict_proba(d1_range.reshape(-1, 1))[:, 1]\n",
        "plt.plot(d1_range, prob, color='red')\n",
        "plt.scatter(d1, d2)\n",
        "plt.xlabel('Total expenditure')\n",
        "plt.ylabel('Probability of Status(0-Developed, 1-Developing)')\n",
        "plt.show()"
      ],
      "metadata": {
        "id": "RHEr5SFW83Fr"
      },
      "execution_count": null,
      "outputs": []
    },
    {
      "cell_type": "markdown",
      "source": [
        "#7)South America"
      ],
      "metadata": {
        "id": "vwczeWOw850g"
      }
    },
    {
      "cell_type": "code",
      "source": [
        "#Linear relationship between positively correlated variables\n",
        "p={'infant deaths':'under-five deaths ',' thinness  1-19 years':' thinness 5-9 years'}\n",
        "\n",
        "for k in p.keys():\n",
        "    d1=sa_df[k].values.reshape(-1, 1)\n",
        "    d2=sa_df[p[k]].values.reshape(-1, 1)\n",
        "\n",
        "    linear_regressor = LinearRegression()\n",
        "    linear_regressor.fit(d1, d2)  #linear regression\n",
        "    pred = linear_regressor.predict(d1)  # make predictions\n",
        "\n",
        "    plt.scatter(d1, d2)\n",
        "    plt.plot(d1, pred, color='purple')\n",
        "    plt.xlabel(k)\n",
        "    plt.ylabel(p[k])\n",
        "    plt.title('{} VS {}'.format(k,p[k]))\n",
        "    plt.show()"
      ],
      "metadata": {
        "id": "5LV5UbUXAsHh"
      },
      "execution_count": null,
      "outputs": []
    }
  ]
}